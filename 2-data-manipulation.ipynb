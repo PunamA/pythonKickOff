{
 "cells": [
  {
   "cell_type": "markdown",
   "metadata": {},
   "source": [
    "# Welcome to Part 2: data manipulation\n",
    "\n",
    "### Let's get more involved with the data!"
   ]
  },
  {
   "cell_type": "code",
   "execution_count": 1,
   "metadata": {},
   "outputs": [],
   "source": [
    "# Load libraries\n",
    "import pandas as pd\n",
    "\n",
    "# Read in data\n",
    "un_data = pd.read_csv('data/UN.csv')"
   ]
  },
  {
   "cell_type": "markdown",
   "metadata": {},
   "source": [
    "Questions we might like to answer\n",
    "    * Is fertility different in Africa compared to Europe?\n",
    "    * Does the GDP per capita vary more across Latin America or Asia?\n",
    "    * Which countries are we missing data for? Is there a lot of data missing? What should we do?\n",
    "    * Do the column names make sense or do we want to rename them to something more readable?"
   ]
  },
  {
   "cell_type": "markdown",
   "metadata": {},
   "source": [
    "### Is fertility different in Africa compared to Europe?"
   ]
  },
  {
   "cell_type": "code",
   "execution_count": 26,
   "metadata": {},
   "outputs": [
    {
     "data": {
      "text/plain": [
       "count    53.000000\n",
       "mean      4.236170\n",
       "std       1.303722\n",
       "min       1.590000\n",
       "25%       3.174000\n",
       "50%       4.423000\n",
       "75%       5.078000\n",
       "max       6.925000\n",
       "Name: fertility, dtype: float64"
      ]
     },
     "execution_count": 26,
     "metadata": {},
     "output_type": "execute_result"
    }
   ],
   "source": [
    "africa_data = un_data[un_data['region'] == 'Africa']\n",
    "africa_data['fertility'].describe()"
   ]
  },
  {
   "cell_type": "code",
   "execution_count": 27,
   "metadata": {},
   "outputs": [
    {
     "data": {
      "text/plain": [
       "count    39.000000\n",
       "mean      1.590026\n",
       "std       0.231152\n",
       "min       1.134000\n",
       "25%       1.453500\n",
       "50%       1.506000\n",
       "75%       1.748000\n",
       "max       2.098000\n",
       "Name: fertility, dtype: float64"
      ]
     },
     "execution_count": 27,
     "metadata": {},
     "output_type": "execute_result"
    }
   ],
   "source": [
    "europe_data = un_data[un_data['region'] == 'Europe']\n",
    "europe_data['fertility'].describe()"
   ]
  },
  {
   "cell_type": "markdown",
   "metadata": {},
   "source": [
    "### Does the GDP per capita vary more across Latin America or Asia?"
   ]
  },
  {
   "cell_type": "code",
   "execution_count": 28,
   "metadata": {},
   "outputs": [],
   "source": [
    "latin_data = un_data[un_data['region'] == 'Latin Amer']"
   ]
  },
  {
   "cell_type": "code",
   "execution_count": 29,
   "metadata": {},
   "outputs": [],
   "source": [
    "asia_data = un_data[un_data['region'] == 'Asia']"
   ]
  },
  {
   "cell_type": "code",
   "execution_count": 30,
   "metadata": {},
   "outputs": [
    {
     "name": "stdout",
     "output_type": "stream",
     "text": [
      "Standard deviation of GDP in Latin America 3775.107734883031\n",
      "Standard deviation of GDP in Asia 16741.768226195738\n"
     ]
    }
   ],
   "source": [
    "print(\"Standard deviation of GDP in Latin America\", latin_data['ppgdp'].std())\n",
    "print(\"Standard deviation of GDP in Asia\", asia_data['ppgdp'].std())"
   ]
  },
  {
   "cell_type": "markdown",
   "metadata": {},
   "source": [
    "### Missing data"
   ]
  },
  {
   "cell_type": "code",
   "execution_count": 31,
   "metadata": {},
   "outputs": [],
   "source": [
    "# What is actually being done here? Take your time. Ask if you are not sure\n",
    "# Take a look at the un_data.head() to see if you are right\n",
    "un_data['number_nas'] = un_data.isna().sum(axis=1)"
   ]
  },
  {
   "cell_type": "code",
   "execution_count": 32,
   "metadata": {},
   "outputs": [],
   "source": [
    "max_nas = max(un_data['number_nas'])"
   ]
  },
  {
   "cell_type": "markdown",
   "metadata": {},
   "source": [
    "The next lines are more complicated. Take your time to understand what is going on here"
   ]
  },
  {
   "cell_type": "code",
   "execution_count": 33,
   "metadata": {},
   "outputs": [
    {
     "name": "stdout",
     "output_type": "stream",
     "text": [
      "0\n",
      "1\n",
      "2\n",
      "3\n",
      "4\n"
     ]
    }
   ],
   "source": [
    "# What does the range function do?\n",
    "# Try changing range(5) to range(1, 10, 2)\n",
    "for i in range(5):\n",
    "    print(i)"
   ]
  },
  {
   "cell_type": "code",
   "execution_count": 34,
   "metadata": {},
   "outputs": [
    {
     "name": "stdout",
     "output_type": "stream",
     "text": [
      "There are  193  countries with  0 NaNs.\n",
      "There are  6  countries with  1 NaNs.\n",
      "There are  0  countries with  2 NaNs.\n",
      "There are  0  countries with  3 NaNs.\n",
      "There are  0  countries with  4 NaNs.\n",
      "There are  0  countries with  5 NaNs.\n",
      "There are  14  countries with  6 NaNs.\n"
     ]
    }
   ],
   "source": [
    "# Why are we using range(max_nas + 1)?\n",
    "for n_missing in range(max_nas + 1):\n",
    "    print(\"There are \", sum(un_data['number_nas'] == n_missing), \" countries with \", n_missing, \"NaNs.\")"
   ]
  },
  {
   "cell_type": "code",
   "execution_count": 35,
   "metadata": {},
   "outputs": [
    {
     "name": "stdout",
     "output_type": "stream",
     "text": [
      "5            Anguilla\n",
      "20            Bermuda\n",
      "34     Cayman Islands\n",
      "53           Dominica\n",
      "74          Greenland\n",
      "168        Seychelles\n",
      "Name: country, dtype: object\n"
     ]
    }
   ],
   "source": [
    "print(un_data[un_data['number_nas'] == 1].country)"
   ]
  },
  {
   "cell_type": "code",
   "execution_count": 36,
   "metadata": {},
   "outputs": [
    {
     "name": "stdout",
     "output_type": "stream",
     "text": [
      "3                    American Samoa\n",
      "37                  Channel Islands\n",
      "66                    French Guiana\n",
      "76                       Guadeloupe\n",
      "77                             Guam\n",
      "118                      Martinique\n",
      "121                         Mayotte\n",
      "140                            Niue\n",
      "142        Northern Mariana Islands\n",
      "158                         Reunion\n",
      "190                         Tokelau\n",
      "202    United States Virgin Islands\n",
      "208       Wallis and Futuna Islands\n",
      "209                  Western Sahara\n",
      "Name: country, dtype: object\n"
     ]
    }
   ],
   "source": [
    "print(un_data[un_data['number_nas'] == 6].country)"
   ]
  },
  {
   "cell_type": "markdown",
   "metadata": {},
   "source": [
    "### Rename columns"
   ]
  },
  {
   "cell_type": "code",
   "execution_count": 37,
   "metadata": {},
   "outputs": [
    {
     "data": {
      "text/plain": [
       "Index(['country', 'region', 'group', 'fertility', 'ppgdp', 'lifeExpF',\n",
       "       'pctUrban', 'infantMortality', 'number_nas'],\n",
       "      dtype='object')"
      ]
     },
     "execution_count": 37,
     "metadata": {},
     "output_type": "execute_result"
    }
   ],
   "source": [
    "un_data.columns"
   ]
  },
  {
   "cell_type": "code",
   "execution_count": 38,
   "metadata": {},
   "outputs": [],
   "source": [
    "un_data.rename(columns = {'fertility': 'fertilityRate', 'ppgdp':'GDPperperson'}, inplace = True)"
   ]
  },
  {
   "cell_type": "code",
   "execution_count": 39,
   "metadata": {},
   "outputs": [
    {
     "data": {
      "text/html": [
       "<div>\n",
       "<style scoped>\n",
       "    .dataframe tbody tr th:only-of-type {\n",
       "        vertical-align: middle;\n",
       "    }\n",
       "\n",
       "    .dataframe tbody tr th {\n",
       "        vertical-align: top;\n",
       "    }\n",
       "\n",
       "    .dataframe thead th {\n",
       "        text-align: right;\n",
       "    }\n",
       "</style>\n",
       "<table border=\"1\" class=\"dataframe\">\n",
       "  <thead>\n",
       "    <tr style=\"text-align: right;\">\n",
       "      <th></th>\n",
       "      <th>country</th>\n",
       "      <th>region</th>\n",
       "      <th>group</th>\n",
       "      <th>fertilityRate</th>\n",
       "      <th>GDPperperson</th>\n",
       "      <th>lifeExpF</th>\n",
       "      <th>pctUrban</th>\n",
       "      <th>infantMortality</th>\n",
       "      <th>number_nas</th>\n",
       "    </tr>\n",
       "  </thead>\n",
       "  <tbody>\n",
       "    <tr>\n",
       "      <th>0</th>\n",
       "      <td>Afghanistan</td>\n",
       "      <td>Asia</td>\n",
       "      <td>other</td>\n",
       "      <td>5.968</td>\n",
       "      <td>499.0</td>\n",
       "      <td>49.49</td>\n",
       "      <td>23.0</td>\n",
       "      <td>124.535000</td>\n",
       "      <td>0</td>\n",
       "    </tr>\n",
       "    <tr>\n",
       "      <th>1</th>\n",
       "      <td>Albania</td>\n",
       "      <td>Europe</td>\n",
       "      <td>other</td>\n",
       "      <td>1.525</td>\n",
       "      <td>3677.2</td>\n",
       "      <td>80.40</td>\n",
       "      <td>53.0</td>\n",
       "      <td>16.561000</td>\n",
       "      <td>0</td>\n",
       "    </tr>\n",
       "    <tr>\n",
       "      <th>2</th>\n",
       "      <td>Algeria</td>\n",
       "      <td>Africa</td>\n",
       "      <td>africa</td>\n",
       "      <td>2.142</td>\n",
       "      <td>4473.0</td>\n",
       "      <td>75.00</td>\n",
       "      <td>67.0</td>\n",
       "      <td>21.458000</td>\n",
       "      <td>0</td>\n",
       "    </tr>\n",
       "    <tr>\n",
       "      <th>3</th>\n",
       "      <td>American Samoa</td>\n",
       "      <td>NaN</td>\n",
       "      <td>NaN</td>\n",
       "      <td>NaN</td>\n",
       "      <td>NaN</td>\n",
       "      <td>NaN</td>\n",
       "      <td>NaN</td>\n",
       "      <td>11.293887</td>\n",
       "      <td>6</td>\n",
       "    </tr>\n",
       "    <tr>\n",
       "      <th>4</th>\n",
       "      <td>Angola</td>\n",
       "      <td>Africa</td>\n",
       "      <td>africa</td>\n",
       "      <td>5.135</td>\n",
       "      <td>4321.9</td>\n",
       "      <td>53.17</td>\n",
       "      <td>59.0</td>\n",
       "      <td>96.191000</td>\n",
       "      <td>0</td>\n",
       "    </tr>\n",
       "  </tbody>\n",
       "</table>\n",
       "</div>"
      ],
      "text/plain": [
       "          country  region   group  fertilityRate  GDPperperson  lifeExpF  \\\n",
       "0     Afghanistan    Asia   other          5.968         499.0     49.49   \n",
       "1         Albania  Europe   other          1.525        3677.2     80.40   \n",
       "2         Algeria  Africa  africa          2.142        4473.0     75.00   \n",
       "3  American Samoa     NaN     NaN            NaN           NaN       NaN   \n",
       "4          Angola  Africa  africa          5.135        4321.9     53.17   \n",
       "\n",
       "   pctUrban  infantMortality  number_nas  \n",
       "0      23.0       124.535000           0  \n",
       "1      53.0        16.561000           0  \n",
       "2      67.0        21.458000           0  \n",
       "3       NaN        11.293887           6  \n",
       "4      59.0        96.191000           0  "
      ]
     },
     "execution_count": 39,
     "metadata": {},
     "output_type": "execute_result"
    }
   ],
   "source": [
    "un_data.head()"
   ]
  },
  {
   "cell_type": "code",
   "execution_count": 40,
   "metadata": {},
   "outputs": [],
   "source": [
    "un_data.columns = ['country', 'region', 'group', 'fertilityRate', 'GDPpp', 'lifeExpectancy', \n",
    "                   'percentageUrban', 'infantMortality', 'numberNas']"
   ]
  },
  {
   "cell_type": "code",
   "execution_count": 41,
   "metadata": {},
   "outputs": [
    {
     "data": {
      "text/html": [
       "<div>\n",
       "<style scoped>\n",
       "    .dataframe tbody tr th:only-of-type {\n",
       "        vertical-align: middle;\n",
       "    }\n",
       "\n",
       "    .dataframe tbody tr th {\n",
       "        vertical-align: top;\n",
       "    }\n",
       "\n",
       "    .dataframe thead th {\n",
       "        text-align: right;\n",
       "    }\n",
       "</style>\n",
       "<table border=\"1\" class=\"dataframe\">\n",
       "  <thead>\n",
       "    <tr style=\"text-align: right;\">\n",
       "      <th></th>\n",
       "      <th>country</th>\n",
       "      <th>region</th>\n",
       "      <th>group</th>\n",
       "      <th>fertilityRate</th>\n",
       "      <th>GDPpp</th>\n",
       "      <th>lifeExpectancy</th>\n",
       "      <th>percentageUrban</th>\n",
       "      <th>infantMortality</th>\n",
       "      <th>numberNas</th>\n",
       "    </tr>\n",
       "  </thead>\n",
       "  <tbody>\n",
       "    <tr>\n",
       "      <th>0</th>\n",
       "      <td>Afghanistan</td>\n",
       "      <td>Asia</td>\n",
       "      <td>other</td>\n",
       "      <td>5.968</td>\n",
       "      <td>499.0</td>\n",
       "      <td>49.49</td>\n",
       "      <td>23.0</td>\n",
       "      <td>124.535000</td>\n",
       "      <td>0</td>\n",
       "    </tr>\n",
       "    <tr>\n",
       "      <th>1</th>\n",
       "      <td>Albania</td>\n",
       "      <td>Europe</td>\n",
       "      <td>other</td>\n",
       "      <td>1.525</td>\n",
       "      <td>3677.2</td>\n",
       "      <td>80.40</td>\n",
       "      <td>53.0</td>\n",
       "      <td>16.561000</td>\n",
       "      <td>0</td>\n",
       "    </tr>\n",
       "    <tr>\n",
       "      <th>2</th>\n",
       "      <td>Algeria</td>\n",
       "      <td>Africa</td>\n",
       "      <td>africa</td>\n",
       "      <td>2.142</td>\n",
       "      <td>4473.0</td>\n",
       "      <td>75.00</td>\n",
       "      <td>67.0</td>\n",
       "      <td>21.458000</td>\n",
       "      <td>0</td>\n",
       "    </tr>\n",
       "    <tr>\n",
       "      <th>3</th>\n",
       "      <td>American Samoa</td>\n",
       "      <td>NaN</td>\n",
       "      <td>NaN</td>\n",
       "      <td>NaN</td>\n",
       "      <td>NaN</td>\n",
       "      <td>NaN</td>\n",
       "      <td>NaN</td>\n",
       "      <td>11.293887</td>\n",
       "      <td>6</td>\n",
       "    </tr>\n",
       "    <tr>\n",
       "      <th>4</th>\n",
       "      <td>Angola</td>\n",
       "      <td>Africa</td>\n",
       "      <td>africa</td>\n",
       "      <td>5.135</td>\n",
       "      <td>4321.9</td>\n",
       "      <td>53.17</td>\n",
       "      <td>59.0</td>\n",
       "      <td>96.191000</td>\n",
       "      <td>0</td>\n",
       "    </tr>\n",
       "  </tbody>\n",
       "</table>\n",
       "</div>"
      ],
      "text/plain": [
       "          country  region   group  fertilityRate   GDPpp  lifeExpectancy  \\\n",
       "0     Afghanistan    Asia   other          5.968   499.0           49.49   \n",
       "1         Albania  Europe   other          1.525  3677.2           80.40   \n",
       "2         Algeria  Africa  africa          2.142  4473.0           75.00   \n",
       "3  American Samoa     NaN     NaN            NaN     NaN             NaN   \n",
       "4          Angola  Africa  africa          5.135  4321.9           53.17   \n",
       "\n",
       "   percentageUrban  infantMortality  numberNas  \n",
       "0             23.0       124.535000          0  \n",
       "1             53.0        16.561000          0  \n",
       "2             67.0        21.458000          0  \n",
       "3              NaN        11.293887          6  \n",
       "4             59.0        96.191000          0  "
      ]
     },
     "execution_count": 41,
     "metadata": {},
     "output_type": "execute_result"
    }
   ],
   "source": [
    "un_data.head()"
   ]
  },
  {
   "cell_type": "markdown",
   "metadata": {},
   "source": [
    "### Saving a dataframe to csv"
   ]
  },
  {
   "cell_type": "code",
   "execution_count": null,
   "metadata": {},
   "outputs": [],
   "source": [
    "# We can now save our modified data frame as a new csv file\n",
    "un_data.to_csv('data/UN_modified.csv')"
   ]
  },
  {
   "cell_type": "markdown",
   "metadata": {},
   "source": [
    "### What other questions do you want to answer? Have a go now"
   ]
  },
  {
   "cell_type": "code",
   "execution_count": null,
   "metadata": {},
   "outputs": [],
   "source": []
  }
 ],
 "metadata": {
  "kernelspec": {
   "display_name": "Python 3",
   "language": "python",
   "name": "python3"
  },
  "language_info": {
   "codemirror_mode": {
    "name": "ipython",
    "version": 3
   },
   "file_extension": ".py",
   "mimetype": "text/x-python",
   "name": "python",
   "nbconvert_exporter": "python",
   "pygments_lexer": "ipython3",
   "version": "3.7.3"
  }
 },
 "nbformat": 4,
 "nbformat_minor": 2
}
