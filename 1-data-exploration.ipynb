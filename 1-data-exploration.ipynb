{
 "cells": [
  {
   "cell_type": "markdown",
   "metadata": {},
   "source": [
    "# Welcome to the tutorial!\n",
    "\n",
    "## This is Part 1.\n",
    "\n",
    "### Let's start by exploring some data"
   ]
  },
  {
   "cell_type": "code",
   "execution_count": null,
   "metadata": {},
   "outputs": [],
   "source": [
    "# This is comment in Python. Anything written after a '#' will not be executed\n",
    "# Follow the script, read the comments and play around"
   ]
  },
  {
   "cell_type": "code",
   "execution_count": null,
   "metadata": {},
   "outputs": [],
   "source": [
    "# Check what the current working directory is\n",
    "# \"import\" loads python modules (a lot of python code) that contains useful functions we need\n",
    "import os\n",
    "os.getcwd()"
   ]
  },
  {
   "cell_type": "code",
   "execution_count": null,
   "metadata": {},
   "outputs": [],
   "source": [
    "# Change the working directory\n",
    "os.chdir('J:\\\\Rexamples\\\\')\n",
    "os.getcwd()"
   ]
  },
  {
   "cell_type": "code",
   "execution_count": null,
   "metadata": {},
   "outputs": [],
   "source": [
    "# But we do actually want to be where we started, so let's go back\n",
    "os.chdir('J:\\\\Rexamples\\\\pythonKickOff')"
   ]
  },
  {
   "cell_type": "code",
   "execution_count": null,
   "metadata": {},
   "outputs": [],
   "source": [
    "# pandas is a very useful python data analysis library\n",
    "# The 'as' allows us to refer to it by a shorter name elsewhere in the code\n",
    "\n",
    "import pandas as pd"
   ]
  },
  {
   "cell_type": "markdown",
   "metadata": {},
   "source": [
    "### Reading in the data"
   ]
  },
  {
   "cell_type": "code",
   "execution_count": null,
   "metadata": {},
   "outputs": [],
   "source": [
    "# Now we read in the data file\n",
    "# Notice we have used the name 'pd'\n",
    "un_data = pd.read_csv('data/UN.csv')"
   ]
  },
  {
   "cell_type": "markdown",
   "metadata": {},
   "source": [
    "### Exploring the structure of the dataframe"
   ]
  },
  {
   "cell_type": "code",
   "execution_count": null,
   "metadata": {},
   "outputs": [],
   "source": [
    "# What does our data look like?\n",
    "# The head function returns the first 5 rows of the dataframe\n",
    "un_data.head()"
   ]
  },
  {
   "cell_type": "code",
   "execution_count": null,
   "metadata": {},
   "outputs": [],
   "source": [
    "# We can specify the number of rows to display\n",
    "un_data.head(10)"
   ]
  },
  {
   "cell_type": "code",
   "execution_count": null,
   "metadata": {},
   "outputs": [],
   "source": [
    "# Can you tell what this function does?\n",
    "un_data.describe()"
   ]
  },
  {
   "cell_type": "code",
   "execution_count": null,
   "metadata": {},
   "outputs": [],
   "source": [
    "# What do you think this is telling you?\n",
    "un_data.shape"
   ]
  },
  {
   "cell_type": "code",
   "execution_count": null,
   "metadata": {},
   "outputs": [],
   "source": [
    "# info() function gives information about the dataframe\n",
    "# Is this consistent with the results from head() and shape\n",
    "un_data.info()"
   ]
  },
  {
   "cell_type": "markdown",
   "metadata": {},
   "source": [
    "### Subsetting the dataframe"
   ]
  },
  {
   "cell_type": "code",
   "execution_count": null,
   "metadata": {},
   "outputs": [],
   "source": [
    "# You can select a specific column by name\n",
    "pctUrban = un_data.pctUrban\n",
    "\n",
    "# Use the head() function to view the object\n",
    "# Compare the output of gdp.head() with un_data.head() - you can either scroll up or run the command again\n",
    "# Can you see what we have done here?\n",
    "pctUrban.head()"
   ]
  },
  {
   "cell_type": "code",
   "execution_count": null,
   "metadata": {},
   "outputs": [],
   "source": [
    "# What size do you expect this object to be? Check if you are right (Hint: use pctUrban.size)\n"
   ]
  },
  {
   "cell_type": "code",
   "execution_count": null,
   "metadata": {},
   "outputs": [],
   "source": [
    "# We can check that the result of un_data.describe() from earlier is correct\n",
    "# (Hint: use pctUrban.mean and pctUrban.std())\n"
   ]
  },
  {
   "cell_type": "code",
   "execution_count": null,
   "metadata": {},
   "outputs": [],
   "source": [
    "# Another way to select a column\n",
    "gdp = un_data['ppgdp']\n",
    "\n",
    "# Use the head() function to check we have done the same thing. And again compare with un_data.head()\n",
    "gdp.head()"
   ]
  },
  {
   "cell_type": "code",
   "execution_count": null,
   "metadata": {},
   "outputs": [],
   "source": [
    "# In a similar way, we can select multiple columns at once\n",
    "reduced = un_data[['country', 'ppgdp', 'fertility']]\n",
    "reduced.head()"
   ]
  },
  {
   "cell_type": "code",
   "execution_count": null,
   "metadata": {},
   "outputs": [],
   "source": [
    "# Another way to select a column is by index\n",
    "# When you select by index we use the function iloc\n",
    "fertility = un_data.iloc[:, 3]  # This gets the 4th column because Python indexing starts at 0"
   ]
  },
  {
   "cell_type": "code",
   "execution_count": null,
   "metadata": {},
   "outputs": [],
   "source": [
    "# Again we can check what we have done\n",
    "fertility.head()"
   ]
  },
  {
   "cell_type": "code",
   "execution_count": null,
   "metadata": {},
   "outputs": [],
   "source": [
    "# Selecting rows: we just the row index to select a specific row\n",
    "print(\"The second row:\")\n",
    "print(un_data.iloc[1])"
   ]
  },
  {
   "cell_type": "code",
   "execution_count": null,
   "metadata": {},
   "outputs": [],
   "source": [
    "# We can select a specific element in the dataframe by specifying row and column number\n",
    "print(\"\\nThe 3rd row and 4th column:\")\n",
    "print(un_data.iloc[2, 3])"
   ]
  },
  {
   "cell_type": "code",
   "execution_count": null,
   "metadata": {},
   "outputs": [],
   "source": [
    "# Here we are selecting a specific row according to a criteria\n",
    "# What does un_data.country == 'Spain' do? (Hint: try running it by itself)\n",
    "un_data[un_data.country == 'Spain']"
   ]
  },
  {
   "cell_type": "code",
   "execution_count": null,
   "metadata": {},
   "outputs": [],
   "source": [
    "# We can also select by other criteria to get multiple rows\n",
    "un_data[un_data.ppgdp > 50000]"
   ]
  },
  {
   "cell_type": "markdown",
   "metadata": {},
   "source": [
    "### Exploring the data further"
   ]
  },
  {
   "cell_type": "code",
   "execution_count": null,
   "metadata": {},
   "outputs": [],
   "source": [
    "# How many NA values in a specific column\n",
    "# Remember un_data.ppgdp selects the column by name\n",
    "# If you are not sure what si happening here try just running un_data.ppgdp.isna()\n",
    "un_data.ppgdp.isna().sum()"
   ]
  },
  {
   "cell_type": "code",
   "execution_count": null,
   "metadata": {},
   "outputs": [],
   "source": [
    "# We take a column and find all the unique values\n",
    "unique_regions = un_data.region.unique()\n",
    "print(unique_regions)\n",
    "\n",
    "# It seems that there is an nan here. Where does that come from?\n",
    "# Continue to explore"
   ]
  },
  {
   "cell_type": "code",
   "execution_count": null,
   "metadata": {},
   "outputs": [],
   "source": [
    "# Here we select all the rows that have a value of NA for the region\n",
    "un_data[un_data.region.isna()]"
   ]
  },
  {
   "cell_type": "code",
   "execution_count": null,
   "metadata": {},
   "outputs": [],
   "source": [
    "# Based on these results we probably want to remove all these rows from our table\n",
    "# But let's leave that for later on"
   ]
  },
  {
   "cell_type": "code",
   "execution_count": null,
   "metadata": {},
   "outputs": [],
   "source": [
    "# This is a loop in Python. Note the structure. Run the code. Can you see what is going on here?\n",
    "# Ask you are not sure\n",
    "for region in unique_regions:\n",
    "    print(region)"
   ]
  },
  {
   "cell_type": "code",
   "execution_count": null,
   "metadata": {},
   "outputs": [],
   "source": [
    "# Is this different to the lines above? Can you see from the error why this is?\n",
    "for region in unique_regions:\n",
    "print(region)"
   ]
  },
  {
   "cell_type": "code",
   "execution_count": null,
   "metadata": {},
   "outputs": [],
   "source": []
  }
 ],
 "metadata": {
  "kernelspec": {
   "display_name": "Python 3",
   "language": "python",
   "name": "python3"
  },
  "language_info": {
   "codemirror_mode": {
    "name": "ipython",
    "version": 3
   },
   "file_extension": ".py",
   "mimetype": "text/x-python",
   "name": "python",
   "nbconvert_exporter": "python",
   "pygments_lexer": "ipython3",
   "version": "3.6.5"
  }
 },
 "nbformat": 4,
 "nbformat_minor": 2
}
