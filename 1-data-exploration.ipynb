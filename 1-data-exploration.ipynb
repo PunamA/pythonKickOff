{
 "cells": [
  {
   "cell_type": "markdown",
   "metadata": {},
   "source": [
    "# Welcome to the tutorial!\n",
    "\n",
    "## This is Part 1.\n",
    "\n",
    "### Let's start by exploring some data"
   ]
  },
  {
   "cell_type": "code",
   "execution_count": 13,
   "metadata": {},
   "outputs": [],
   "source": [
    "# This is comment in Python. Anything written after a '#' will not be executed\n",
    "# Follow the script, read the comments and play around"
   ]
  },
  {
   "cell_type": "code",
   "execution_count": 14,
   "metadata": {},
   "outputs": [],
   "source": [
    "# At the start of the script we import modules that we will need later\n",
    "# pandas is a very useful python data analysis library\n",
    "# The 'as' allows us to refer to it by a shorter name elsewhere in the code\n",
    "\n",
    "import pandas as pd"
   ]
  },
  {
   "cell_type": "markdown",
   "metadata": {},
   "source": [
    "### Reading in the data"
   ]
  },
  {
   "cell_type": "code",
   "execution_count": 15,
   "metadata": {},
   "outputs": [],
   "source": [
    "# Now we read in the data file\n",
    "un_data = pd.read_csv('data/UN.csv')"
   ]
  },
  {
   "cell_type": "markdown",
   "metadata": {},
   "source": [
    "### Exploring the structure of the dataframe"
   ]
  },
  {
   "cell_type": "code",
   "execution_count": 16,
   "metadata": {},
   "outputs": [
    {
     "data": {
      "text/plain": [
       "pandas.core.frame.DataFrame"
      ]
     },
     "execution_count": 16,
     "metadata": {},
     "output_type": "execute_result"
    }
   ],
   "source": [
    "type(un_data)"
   ]
  },
  {
   "cell_type": "code",
   "execution_count": 17,
   "metadata": {},
   "outputs": [
    {
     "data": {
      "text/html": [
       "<div>\n",
       "<style scoped>\n",
       "    .dataframe tbody tr th:only-of-type {\n",
       "        vertical-align: middle;\n",
       "    }\n",
       "\n",
       "    .dataframe tbody tr th {\n",
       "        vertical-align: top;\n",
       "    }\n",
       "\n",
       "    .dataframe thead th {\n",
       "        text-align: right;\n",
       "    }\n",
       "</style>\n",
       "<table border=\"1\" class=\"dataframe\">\n",
       "  <thead>\n",
       "    <tr style=\"text-align: right;\">\n",
       "      <th></th>\n",
       "      <th>country</th>\n",
       "      <th>region</th>\n",
       "      <th>group</th>\n",
       "      <th>fertility</th>\n",
       "      <th>ppgdp</th>\n",
       "      <th>lifeExpF</th>\n",
       "      <th>pctUrban</th>\n",
       "      <th>infantMortality</th>\n",
       "    </tr>\n",
       "  </thead>\n",
       "  <tbody>\n",
       "    <tr>\n",
       "      <th>0</th>\n",
       "      <td>Afghanistan</td>\n",
       "      <td>Asia</td>\n",
       "      <td>other</td>\n",
       "      <td>5.968</td>\n",
       "      <td>499.0</td>\n",
       "      <td>49.49</td>\n",
       "      <td>23.0</td>\n",
       "      <td>124.535000</td>\n",
       "    </tr>\n",
       "    <tr>\n",
       "      <th>1</th>\n",
       "      <td>Albania</td>\n",
       "      <td>Europe</td>\n",
       "      <td>other</td>\n",
       "      <td>1.525</td>\n",
       "      <td>3677.2</td>\n",
       "      <td>80.40</td>\n",
       "      <td>53.0</td>\n",
       "      <td>16.561000</td>\n",
       "    </tr>\n",
       "    <tr>\n",
       "      <th>2</th>\n",
       "      <td>Algeria</td>\n",
       "      <td>Africa</td>\n",
       "      <td>africa</td>\n",
       "      <td>2.142</td>\n",
       "      <td>4473.0</td>\n",
       "      <td>75.00</td>\n",
       "      <td>67.0</td>\n",
       "      <td>21.458000</td>\n",
       "    </tr>\n",
       "    <tr>\n",
       "      <th>3</th>\n",
       "      <td>American Samoa</td>\n",
       "      <td>NaN</td>\n",
       "      <td>NaN</td>\n",
       "      <td>NaN</td>\n",
       "      <td>NaN</td>\n",
       "      <td>NaN</td>\n",
       "      <td>NaN</td>\n",
       "      <td>11.293887</td>\n",
       "    </tr>\n",
       "    <tr>\n",
       "      <th>4</th>\n",
       "      <td>Angola</td>\n",
       "      <td>Africa</td>\n",
       "      <td>africa</td>\n",
       "      <td>5.135</td>\n",
       "      <td>4321.9</td>\n",
       "      <td>53.17</td>\n",
       "      <td>59.0</td>\n",
       "      <td>96.191000</td>\n",
       "    </tr>\n",
       "  </tbody>\n",
       "</table>\n",
       "</div>"
      ],
      "text/plain": [
       "          country  region   group  fertility   ppgdp  lifeExpF  pctUrban  \\\n",
       "0     Afghanistan    Asia   other      5.968   499.0     49.49      23.0   \n",
       "1         Albania  Europe   other      1.525  3677.2     80.40      53.0   \n",
       "2         Algeria  Africa  africa      2.142  4473.0     75.00      67.0   \n",
       "3  American Samoa     NaN     NaN        NaN     NaN       NaN       NaN   \n",
       "4          Angola  Africa  africa      5.135  4321.9     53.17      59.0   \n",
       "\n",
       "   infantMortality  \n",
       "0       124.535000  \n",
       "1        16.561000  \n",
       "2        21.458000  \n",
       "3        11.293887  \n",
       "4        96.191000  "
      ]
     },
     "execution_count": 17,
     "metadata": {},
     "output_type": "execute_result"
    }
   ],
   "source": [
    "un_data.head()"
   ]
  },
  {
   "cell_type": "code",
   "execution_count": 18,
   "metadata": {},
   "outputs": [
    {
     "data": {
      "text/html": [
       "<div>\n",
       "<style scoped>\n",
       "    .dataframe tbody tr th:only-of-type {\n",
       "        vertical-align: middle;\n",
       "    }\n",
       "\n",
       "    .dataframe tbody tr th {\n",
       "        vertical-align: top;\n",
       "    }\n",
       "\n",
       "    .dataframe thead th {\n",
       "        text-align: right;\n",
       "    }\n",
       "</style>\n",
       "<table border=\"1\" class=\"dataframe\">\n",
       "  <thead>\n",
       "    <tr style=\"text-align: right;\">\n",
       "      <th></th>\n",
       "      <th>fertility</th>\n",
       "      <th>ppgdp</th>\n",
       "      <th>lifeExpF</th>\n",
       "      <th>pctUrban</th>\n",
       "      <th>infantMortality</th>\n",
       "    </tr>\n",
       "  </thead>\n",
       "  <tbody>\n",
       "    <tr>\n",
       "      <th>count</th>\n",
       "      <td>199.000000</td>\n",
       "      <td>199.000000</td>\n",
       "      <td>199.000000</td>\n",
       "      <td>199.000000</td>\n",
       "      <td>207.000000</td>\n",
       "    </tr>\n",
       "    <tr>\n",
       "      <th>mean</th>\n",
       "      <td>2.761383</td>\n",
       "      <td>13011.951759</td>\n",
       "      <td>72.293193</td>\n",
       "      <td>57.929648</td>\n",
       "      <td>29.439531</td>\n",
       "    </tr>\n",
       "    <tr>\n",
       "      <th>std</th>\n",
       "      <td>1.339589</td>\n",
       "      <td>18412.443368</td>\n",
       "      <td>10.123784</td>\n",
       "      <td>23.429565</td>\n",
       "      <td>28.748433</td>\n",
       "    </tr>\n",
       "    <tr>\n",
       "      <th>min</th>\n",
       "      <td>1.134000</td>\n",
       "      <td>114.800000</td>\n",
       "      <td>48.110000</td>\n",
       "      <td>11.000000</td>\n",
       "      <td>1.916000</td>\n",
       "    </tr>\n",
       "    <tr>\n",
       "      <th>25%</th>\n",
       "      <td>1.753500</td>\n",
       "      <td>1282.950000</td>\n",
       "      <td>65.660000</td>\n",
       "      <td>39.000000</td>\n",
       "      <td>7.019000</td>\n",
       "    </tr>\n",
       "    <tr>\n",
       "      <th>50%</th>\n",
       "      <td>2.262000</td>\n",
       "      <td>4684.500000</td>\n",
       "      <td>75.890000</td>\n",
       "      <td>59.000000</td>\n",
       "      <td>19.007000</td>\n",
       "    </tr>\n",
       "    <tr>\n",
       "      <th>75%</th>\n",
       "      <td>3.544500</td>\n",
       "      <td>15520.500000</td>\n",
       "      <td>79.585000</td>\n",
       "      <td>75.000000</td>\n",
       "      <td>44.477500</td>\n",
       "    </tr>\n",
       "    <tr>\n",
       "      <th>max</th>\n",
       "      <td>6.925000</td>\n",
       "      <td>105095.400000</td>\n",
       "      <td>87.120000</td>\n",
       "      <td>100.000000</td>\n",
       "      <td>124.535000</td>\n",
       "    </tr>\n",
       "  </tbody>\n",
       "</table>\n",
       "</div>"
      ],
      "text/plain": [
       "        fertility          ppgdp    lifeExpF    pctUrban  infantMortality\n",
       "count  199.000000     199.000000  199.000000  199.000000       207.000000\n",
       "mean     2.761383   13011.951759   72.293193   57.929648        29.439531\n",
       "std      1.339589   18412.443368   10.123784   23.429565        28.748433\n",
       "min      1.134000     114.800000   48.110000   11.000000         1.916000\n",
       "25%      1.753500    1282.950000   65.660000   39.000000         7.019000\n",
       "50%      2.262000    4684.500000   75.890000   59.000000        19.007000\n",
       "75%      3.544500   15520.500000   79.585000   75.000000        44.477500\n",
       "max      6.925000  105095.400000   87.120000  100.000000       124.535000"
      ]
     },
     "execution_count": 18,
     "metadata": {},
     "output_type": "execute_result"
    }
   ],
   "source": [
    "un_data.describe()"
   ]
  },
  {
   "cell_type": "code",
   "execution_count": 19,
   "metadata": {},
   "outputs": [
    {
     "data": {
      "text/plain": [
       "(213, 8)"
      ]
     },
     "execution_count": 19,
     "metadata": {},
     "output_type": "execute_result"
    }
   ],
   "source": [
    "un_data.shape"
   ]
  },
  {
   "cell_type": "code",
   "execution_count": 22,
   "metadata": {},
   "outputs": [
    {
     "data": {
      "text/plain": [
       "pandas.core.indexes.base.Index"
      ]
     },
     "execution_count": 22,
     "metadata": {},
     "output_type": "execute_result"
    }
   ],
   "source": [
    "list(un_data.columns)"
   ]
  },
  {
   "cell_type": "markdown",
   "metadata": {},
   "source": [
    "### Subsetting the dataframe"
   ]
  },
  {
   "cell_type": "code",
   "execution_count": 26,
   "metadata": {},
   "outputs": [],
   "source": [
    "# Subset parts of the pandas dataframe\n",
    "gdp = un_data['ppgdp']"
   ]
  },
  {
   "cell_type": "code",
   "execution_count": 31,
   "metadata": {},
   "outputs": [
    {
     "data": {
      "text/plain": [
       "pandas.core.series.Series"
      ]
     },
     "execution_count": 31,
     "metadata": {},
     "output_type": "execute_result"
    }
   ],
   "source": [
    "pctUrban = un_data.pctUrban"
   ]
  },
  {
   "cell_type": "code",
   "execution_count": 32,
   "metadata": {},
   "outputs": [],
   "source": [
    "fertility = un_data.iloc[:, 3]  # This gets the 4th column because Python indexing starts at 0"
   ]
  },
  {
   "cell_type": "code",
   "execution_count": 33,
   "metadata": {},
   "outputs": [
    {
     "name": "stdout",
     "output_type": "stream",
     "text": [
      "          country  region   group  fertility\n",
      "0     Afghanistan    Asia   other      5.968\n",
      "1         Albania  Europe   other      1.525\n",
      "2         Algeria  Africa  africa      2.142\n",
      "3  American Samoa     NaN     NaN        NaN\n"
     ]
    }
   ],
   "source": [
    "first_bit = un_data.iloc[0:4, 0:4]\n",
    "print(first_bit)"
   ]
  },
  {
   "cell_type": "code",
   "execution_count": 34,
   "metadata": {},
   "outputs": [
    {
     "name": "stdout",
     "output_type": "stream",
     "text": [
      "The second row:\n",
      "country            Albania\n",
      "region              Europe\n",
      "group                other\n",
      "fertility            1.525\n",
      "ppgdp               3677.2\n",
      "lifeExpF              80.4\n",
      "pctUrban                53\n",
      "infantMortality     16.561\n",
      "Name: 1, dtype: object\n"
     ]
    }
   ],
   "source": [
    "print(\"The second row:\")\n",
    "print(un_data.iloc[1])"
   ]
  },
  {
   "cell_type": "code",
   "execution_count": 35,
   "metadata": {},
   "outputs": [
    {
     "name": "stdout",
     "output_type": "stream",
     "text": [
      "\n",
      "The 3rd row and 4th column:\n",
      "2.142\n"
     ]
    }
   ],
   "source": [
    "print(\"\\nThe 3rd row and 4th column:\")\n",
    "print(un_data.iloc[2, 3])"
   ]
  },
  {
   "cell_type": "code",
   "execution_count": 36,
   "metadata": {},
   "outputs": [
    {
     "name": "stdout",
     "output_type": "stream",
     "text": [
      "          country   ppgdp  fertility\n",
      "0     Afghanistan   499.0      5.968\n",
      "1         Albania  3677.2      1.525\n",
      "2         Algeria  4473.0      2.142\n",
      "3  American Samoa     NaN        NaN\n",
      "4          Angola  4321.9      5.135\n"
     ]
    }
   ],
   "source": [
    "reduced = un_data[['country', 'ppgdp', 'fertility']]\n",
    "print(reduced.head())"
   ]
  },
  {
   "cell_type": "code",
   "execution_count": 56,
   "metadata": {},
   "outputs": [
    {
     "name": "stdout",
     "output_type": "stream",
     "text": [
      "    country  region  group  fertility    ppgdp  lifeExpF  pctUrban  \\\n",
      "176   Spain  Europe  other      1.504  30542.8     84.76      78.0   \n",
      "\n",
      "     infantMortality  \n",
      "176            3.573  \n"
     ]
    },
    {
     "data": {
      "text/plain": [
       "0      False\n",
       "1      False\n",
       "2      False\n",
       "3      False\n",
       "4      False\n",
       "5      False\n",
       "6      False\n",
       "7      False\n",
       "8      False\n",
       "9      False\n",
       "10     False\n",
       "11     False\n",
       "12     False\n",
       "13     False\n",
       "14     False\n",
       "15     False\n",
       "16     False\n",
       "17     False\n",
       "18     False\n",
       "19     False\n",
       "20     False\n",
       "21     False\n",
       "22     False\n",
       "23     False\n",
       "24     False\n",
       "25     False\n",
       "26     False\n",
       "27     False\n",
       "28     False\n",
       "29     False\n",
       "       ...  \n",
       "183    False\n",
       "184    False\n",
       "185    False\n",
       "186    False\n",
       "187    False\n",
       "188    False\n",
       "189    False\n",
       "190    False\n",
       "191    False\n",
       "192    False\n",
       "193    False\n",
       "194    False\n",
       "195    False\n",
       "196    False\n",
       "197    False\n",
       "198    False\n",
       "199    False\n",
       "200    False\n",
       "201    False\n",
       "202    False\n",
       "203    False\n",
       "204    False\n",
       "205    False\n",
       "206    False\n",
       "207    False\n",
       "208    False\n",
       "209    False\n",
       "210    False\n",
       "211    False\n",
       "212    False\n",
       "Name: country, Length: 213, dtype: bool"
      ]
     },
     "execution_count": 56,
     "metadata": {},
     "output_type": "execute_result"
    }
   ],
   "source": [
    "print(un_data[un_data.country == 'Spain'])\n",
    "un_data.country == 'Spain'"
   ]
  },
  {
   "cell_type": "markdown",
   "metadata": {},
   "source": [
    "### Exploring the data further"
   ]
  },
  {
   "cell_type": "code",
   "execution_count": 38,
   "metadata": {},
   "outputs": [
    {
     "data": {
      "text/plain": [
       "14"
      ]
     },
     "execution_count": 38,
     "metadata": {},
     "output_type": "execute_result"
    }
   ],
   "source": [
    "gdp.isna().sum()"
   ]
  },
  {
   "cell_type": "code",
   "execution_count": 44,
   "metadata": {},
   "outputs": [
    {
     "name": "stdout",
     "output_type": "stream",
     "text": [
      "['Asia' 'Europe' 'Africa' nan 'Caribbean' 'Latin Amer' 'Oceania'\n",
      " 'North America' 'NorthAtlantic']\n"
     ]
    }
   ],
   "source": [
    "unique_regions = un_data.region.unique()\n",
    "print(unique_regions)"
   ]
  },
  {
   "cell_type": "code",
   "execution_count": 43,
   "metadata": {},
   "outputs": [
    {
     "name": "stdout",
     "output_type": "stream",
     "text": [
      "['Asia' 'Europe' 'Africa' 'Caribbean' 'Latin Amer' 'Oceania'\n",
      " 'North America' 'NorthAtlantic']\n"
     ]
    }
   ],
   "source": [
    "unique_regions = unique_regions[~pd.isna(unique_regions)]\n",
    "print(unique_regions)"
   ]
  },
  {
   "cell_type": "code",
   "execution_count": 45,
   "metadata": {},
   "outputs": [
    {
     "name": "stdout",
     "output_type": "stream",
     "text": [
      "Asia\n",
      "Europe\n",
      "Africa\n",
      "nan\n",
      "Caribbean\n",
      "Latin Amer\n",
      "Oceania\n",
      "North America\n",
      "NorthAtlantic\n"
     ]
    }
   ],
   "source": [
    "for region in unique_regions:\n",
    "    print(region)"
   ]
  },
  {
   "cell_type": "code",
   "execution_count": 52,
   "metadata": {},
   "outputs": [
    {
     "name": "stdout",
     "output_type": "stream",
     "text": [
      "Asia\n",
      "Europe\n",
      "Africa\n",
      "nan\n",
      "Caribbean\n",
      "Latin Amer\n",
      "Oceania\n",
      "North America\n",
      "NorthAtlantic\n"
     ]
    }
   ],
   "source": [
    "# Is this different to the lines above? Can you see from the error why this is?\n",
    "for region in unique_regions:\n",
    "print(region)"
   ]
  },
  {
   "cell_type": "code",
   "execution_count": null,
   "metadata": {},
   "outputs": [],
   "source": []
  }
 ],
 "metadata": {
  "kernelspec": {
   "display_name": "Python 3",
   "language": "python",
   "name": "python3"
  },
  "language_info": {
   "codemirror_mode": {
    "name": "ipython",
    "version": 3
   },
   "file_extension": ".py",
   "mimetype": "text/x-python",
   "name": "python",
   "nbconvert_exporter": "python",
   "pygments_lexer": "ipython3",
   "version": "3.7.3"
  }
 },
 "nbformat": 4,
 "nbformat_minor": 2
}
